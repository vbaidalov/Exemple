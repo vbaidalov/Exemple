{
  "nbformat": 4,
  "nbformat_minor": 0,
  "metadata": {
    "colab": {
      "provenance": [],
      "mount_file_id": "1B3A8d8OHD5AFkhDJXR7AS7qOp8VWhPJF",
      "authorship_tag": "ABX9TyN4i2ThL6ym6/PQKFtbNhwH",
      "include_colab_link": true
    },
    "kernelspec": {
      "name": "python3",
      "display_name": "Python 3"
    },
    "language_info": {
      "name": "python"
    }
  },
  "cells": [
    {
      "cell_type": "markdown",
      "metadata": {
        "id": "view-in-github",
        "colab_type": "text"
      },
      "source": [
        "<a href=\"https://colab.research.google.com/github/vbaidalov/Exemple/blob/main/%D0%9A%D0%BE%D0%BF%D0%B8%D1%8F_%D0%B1%D0%BB%D0%BE%D0%BA%D0%BD%D0%BE%D1%82%D0%B0_%22Untitled1_ipynb%22.ipynb\" target=\"_parent\"><img src=\"https://colab.research.google.com/assets/colab-badge.svg\" alt=\"Open In Colab\"/></a>"
      ]
    },
    {
      "cell_type": "code",
      "execution_count": null,
      "metadata": {
        "id": "hD1APIFPOsbS"
      },
      "outputs": [],
      "source": [
        "import pandas as pd"
      ]
    },
    {
      "cell_type": "code",
      "source": [
        "# @title Работаем с файлом данных за 2023 год\n",
        "df = pd.read_csv('/content/drive/MyDrive/База обработка Инсталл 2023/df_sales_2023_clean.csv')\n",
        "df['Дата реализации'] = pd.to_datetime(df['Дата реализации'], dayfirst=True)\n",
        "# Преобразуем отсрочку в число\n",
        "df['Отсрочка'] = pd.to_numeric(df['Отсрочка'], errors = 'coerce')\n",
        "df['Отсрочка'].fillna(0, inplace = True)"
      ],
      "metadata": {
        "cellView": "form",
        "id": "oSAxNvppQR6g"
      },
      "execution_count": null,
      "outputs": []
    },
    {
      "cell_type": "code",
      "source": [
        "# @title просто посмотреть структуру файла:\n",
        "df.head()"
      ],
      "metadata": {
        "id": "6E-zQlPoQX6v",
        "cellView": "form"
      },
      "execution_count": null,
      "outputs": []
    },
    {
      "cell_type": "code",
      "source": [
        "# @title Товары Владимира Башмачникова, чемпионы по выручке\n",
        "df[['Товар', 'Количество', \"Выручка\", 'Наценка, %']]\\\n",
        ".loc[df['Продакт']=='Башмачников Владимир Константинович']\\\n",
        ".groupby(by = 'Товар').agg({'Количество': 'sum', 'Выручка':'sum', 'Наценка, %':'mean'})\\\n",
        ".sort_values(by = 'Выручка', ascending = False)\\\n",
        ".head(10)"
      ],
      "metadata": {
        "cellView": "form",
        "id": "1LllOa75QdQg"
      },
      "execution_count": null,
      "outputs": []
    },
    {
      "cell_type": "code",
      "source": [
        "# @title Товары Байдалов Василий Игоревич, чемпионы по выручке\n",
        "df[['Товар', \"Артикул\", 'Количество', \"Выручка\", 'Наценка, %']]\\\n",
        ".loc[df['Продакт']=='Байдалов Василий Игоревич']\\\n",
        ".groupby(by = 'Товар')\\\n",
        ".agg({\"Артикул\":'first','Количество': 'sum', 'Выручка':'sum', 'Наценка, %':'mean'})\\\n",
        ".sort_values(by = 'Выручка', ascending = False)\\\n",
        ".head(10)"
      ],
      "metadata": {
        "cellView": "form",
        "id": "-dsNragSQl_P"
      },
      "execution_count": null,
      "outputs": []
    },
    {
      "cell_type": "code",
      "source": [
        "# @title Смотрим в разрезе конкретного товара ONU(GPON-GEPON) PX001. Кому он нужен, какая наценка, сколько берут?\n",
        "df[['Контрагент', \"Филиал\",'Количество', 'Выручка', 'Наценка, %']]\\\n",
        ".loc[df['Товар']=='Абонентский терминал V-SOL V2801RD ONU(GPON-GEPON) GE']\\\n",
        ".groupby(by = 'Контрагент')\\\n",
        ".agg({\"Филиал\":'first','Количество':'sum',  'Выручка':'sum', 'Наценка, %':'mean'})\\\n",
        ".sort_values(by = 'Выручка', ascending = False)\\\n",
        ".head(10)"
      ],
      "metadata": {
        "cellView": "form",
        "id": "4XatiSAeQoQU"
      },
      "execution_count": null,
      "outputs": []
    },
    {
      "cell_type": "code",
      "source": [
        "# @title Смотрим в разрезе конкретного артикула PX001. Кому он нужен, какая наценка, сколько берут?\n",
        "df[['Контрагент', \"Филиал\",'Количество', 'Выручка', 'Наценка, %']]\\\n",
        ".loc[df['Артикул']=='PX001']\\\n",
        ".groupby(by = 'Контрагент')\\\n",
        ".agg({\"Филиал\":'first','Количество':'sum',  'Выручка':'sum', 'Наценка, %':'mean'})\\\n",
        ".sort_values(by = 'Выручка', ascending = False)\\\n",
        ".head(10)"
      ],
      "metadata": {
        "cellView": "form",
        "id": "FItjHyqZQq5U"
      },
      "execution_count": null,
      "outputs": []
    },
    {
      "cell_type": "code",
      "source": [
        "# @title Несложная моделька. Дает рейтинг провайдеров в филиале РнД по MEDIAN наценке\n",
        "pd.pivot_table(df[['ИНН','Контрагент', \"Менеджер\",'Количество', 'Выручка', 'Себестоимость', 'Валовая прибыль', 'Наценка, %']]\\\n",
        ".loc[(df['Тип компании']=='6. ПРОВАЙДЕР') & (df['Филиал'] == 'Ростов-на-Дону')],\\\n",
        "               values= [\"Количество\",'Выручка', 'Себестоимость', \"Валовая прибыль\", 'Наценка, %'], \\\n",
        "               index=['ИНН', 'Контрагент', 'Менеджер'],\\\n",
        "               aggfunc = {\"Количество\": 'sum',\n",
        "                          'Выручка':'sum',\n",
        "                          'Себестоимость':'sum',\n",
        "                          \"Валовая прибыль\":'sum',\n",
        "                          'Наценка, %':'median'})\\\n",
        "               .sort_values(by='Наценка, %', ascending=False)"
      ],
      "metadata": {
        "cellView": "form",
        "id": "IrKipLsQQvTY"
      },
      "execution_count": null,
      "outputs": []
    },
    {
      "cell_type": "code",
      "source": [
        "# @title Посмотрим на портфель продуктов интересного ростовского провайдера (ранжир по выручке). Ой, а это точно провайдер?\n",
        "df[['Товар', 'Количество', 'Выручка', 'Валовая прибыль', 'Себестоимость', 'Наценка, %']]\\\n",
        ".loc[df['Контрагент'] =='ВИСТ ОН-ЛАЙН ЗАО']\\\n",
        ".groupby(by = 'Товар')\\\n",
        ".agg({'Наценка, %': 'mean',\n",
        "      'Количество': 'sum',\n",
        "      'Выручка':'sum',\n",
        "      'Валовая прибыль':'sum',\n",
        "      'Себестоимость': 'sum'})\\\n",
        ".sort_values(by = 'Выручка', ascending = False)"
      ],
      "metadata": {
        "id": "Mm-doyOgQ3be",
        "cellView": "form"
      },
      "execution_count": null,
      "outputs": []
    },
    {
      "cell_type": "code",
      "source": [
        "# @title Хорошо, смотрим на портфель другого ростовского провайдера (ранжир по выручке). Ой...\n",
        "df[['Товар', 'Количество', 'Выручка', 'Валовая прибыль', 'Себестоимость', 'Наценка, %']]\\\n",
        ".loc[df['Контрагент'] =='ЭЛЛКО ООО']\\\n",
        ".groupby(by = 'Товар')\\\n",
        ".agg({'Наценка, %': 'mean',\n",
        "      'Количество': 'sum',\n",
        "      'Выручка':'sum',\n",
        "      'Валовая прибыль':'sum',\n",
        "      'Себестоимость': 'sum'})\\\n",
        ".sort_values(by = 'Выручка', ascending = False)"
      ],
      "metadata": {
        "id": "w22iYYTXQ4W0",
        "cellView": "form"
      },
      "execution_count": null,
      "outputs": []
    },
    {
      "cell_type": "code",
      "source": [
        "# @title а здесь еще и фамилию менеджера посмотрим... (ранжир по Кол-ву)\n",
        "df[['Товар', 'Количество', 'Выручка', 'Валовая прибыль', 'Себестоимость', 'Наценка, %', 'Менеджер']]\\\n",
        ".loc[(df['ИНН'] ==2723074008) & (df['Себестоимость']>1.2)]\\\n",
        ".groupby(by = 'Товар')\\\n",
        ".agg({'Наценка, %': 'mean',\n",
        "      'Количество': 'sum',\n",
        "      'Выручка':'sum',\n",
        "      'Валовая прибыль':'sum',\n",
        "      'Себестоимость': 'sum',\n",
        "      'Менеджер':'first'})\\\n",
        ".sort_values(by = 'Количество', ascending = False)"
      ],
      "metadata": {
        "id": "RilQzarSQ7W1",
        "cellView": "form"
      },
      "execution_count": null,
      "outputs": []
    }
  ]
}